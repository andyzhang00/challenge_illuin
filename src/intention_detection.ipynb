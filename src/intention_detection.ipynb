{
 "cells": [
  {
   "cell_type": "markdown",
   "id": "0739afd1",
   "metadata": {},
   "source": [
    "<div style=\"color: #ffffff; background-color: #2979ff; border-bottom: 1px solid #004ecb; padding: 2em;\">\n",
    "<b style=\"font-size: 20pt;\">ILLUIN TECHNOLOGY</b>\n",
    "    \n",
    "<b style=\"font-size: 20pt;\">Détection d'intention dans un chatbot</b> <br> <br>\n",
    "<b style=\"font-size: 14pt;\">Andy Zhang</b>\n",
    "</div>"
   ]
  },
  {
   "cell_type": "markdown",
   "id": "04448dea",
   "metadata": {},
   "source": [
    "Ce Notebook contient une première solution au problème proposé, en utilisant des algorithmes classiques de machine learning et en particulier des algorithmes classiques de classification."
   ]
  },
  {
   "cell_type": "code",
   "execution_count": 1,
   "id": "a9b829ff",
   "metadata": {},
   "outputs": [],
   "source": [
    "import pandas as pd\n",
    "pd.set_option('display.max_colwidth', None) # To display all the text\n",
    "\n",
    "from sklearn.feature_extraction.text import TfidfVectorizer\n",
    "from sklearn.model_selection import train_test_split, GridSearchCV\n",
    "import matplotlib.pyplot as plt\n",
    "import seaborn as sns\n",
    "from utils import map_class_to_int, complete_eval, print_metrics, single_prediction, display_all_results"
   ]
  },
  {
   "cell_type": "markdown",
   "id": "72dac860",
   "metadata": {},
   "source": [
    "<div>\n",
    "<b style=\"font-size: 20pt;\">DATA PRE-PROCESSING</b>\n",
    "</div>"
   ]
  },
  {
   "cell_type": "code",
   "execution_count": 2,
   "id": "19f29d6a",
   "metadata": {},
   "outputs": [],
   "source": [
    "# Load the data\n",
    "data = pd.read_csv('../data/intent-detection-train.csv')"
   ]
  },
  {
   "cell_type": "code",
   "execution_count": 3,
   "id": "c5f97bff",
   "metadata": {},
   "outputs": [
    {
     "data": {
      "text/html": [
       "<div>\n",
       "<style scoped>\n",
       "    .dataframe tbody tr th:only-of-type {\n",
       "        vertical-align: middle;\n",
       "    }\n",
       "\n",
       "    .dataframe tbody tr th {\n",
       "        vertical-align: top;\n",
       "    }\n",
       "\n",
       "    .dataframe thead th {\n",
       "        text-align: right;\n",
       "    }\n",
       "</style>\n",
       "<table border=\"1\" class=\"dataframe\">\n",
       "  <thead>\n",
       "    <tr style=\"text-align: right;\">\n",
       "      <th></th>\n",
       "      <th>text</th>\n",
       "      <th>label</th>\n",
       "    </tr>\n",
       "  </thead>\n",
       "  <tbody>\n",
       "    <tr>\n",
       "      <th>278</th>\n",
       "      <td>Est-ce que mes bagages ont été égarés pendant le trajet en voiture de location?</td>\n",
       "      <td>lost_luggage</td>\n",
       "    </tr>\n",
       "    <tr>\n",
       "      <th>135</th>\n",
       "      <td>Quelles sont les conditions actuelles dans ce pays en ce qui concerne les voyages?</td>\n",
       "      <td>travel_alert</td>\n",
       "    </tr>\n",
       "    <tr>\n",
       "      <th>356</th>\n",
       "      <td>Je cherche des détails sur les règles pour les bagages à main en cabine.</td>\n",
       "      <td>carry_on</td>\n",
       "    </tr>\n",
       "    <tr>\n",
       "      <th>309</th>\n",
       "      <td>Je suis à la recherche de voyages uniques, pouvez-vous me conseiller?</td>\n",
       "      <td>travel_suggestion</td>\n",
       "    </tr>\n",
       "    <tr>\n",
       "      <th>434</th>\n",
       "      <td>Je souhaite trouver un moyen de transport aérien pour mon voyage à venir.</td>\n",
       "      <td>book_flight</td>\n",
       "    </tr>\n",
       "    <tr>\n",
       "      <th>143</th>\n",
       "      <td>Quels sont les conseils pour les voyageurs se rendant dans ce pays?</td>\n",
       "      <td>travel_alert</td>\n",
       "    </tr>\n",
       "    <tr>\n",
       "      <th>17</th>\n",
       "      <td>Quand vais-je arriver à destination</td>\n",
       "      <td>flight_status</td>\n",
       "    </tr>\n",
       "    <tr>\n",
       "      <th>214</th>\n",
       "      <td>Je souhaite obtenir des informations sur mon voyage en avion.</td>\n",
       "      <td>flight_status</td>\n",
       "    </tr>\n",
       "    <tr>\n",
       "      <th>19</th>\n",
       "      <td>Perte des bagages sur Flight America Airlines à O'Hare</td>\n",
       "      <td>lost_luggage</td>\n",
       "    </tr>\n",
       "    <tr>\n",
       "      <th>499</th>\n",
       "      <td>J'ai des problèmes de gestion du temps, que devrais-je faire?</td>\n",
       "      <td>out_of_scope</td>\n",
       "    </tr>\n",
       "  </tbody>\n",
       "</table>\n",
       "</div>"
      ],
      "text/plain": [
       "                                                                                   text  \\\n",
       "278     Est-ce que mes bagages ont été égarés pendant le trajet en voiture de location?   \n",
       "135  Quelles sont les conditions actuelles dans ce pays en ce qui concerne les voyages?   \n",
       "356            Je cherche des détails sur les règles pour les bagages à main en cabine.   \n",
       "309               Je suis à la recherche de voyages uniques, pouvez-vous me conseiller?   \n",
       "434           Je souhaite trouver un moyen de transport aérien pour mon voyage à venir.   \n",
       "143                 Quels sont les conseils pour les voyageurs se rendant dans ce pays?   \n",
       "17                                                  Quand vais-je arriver à destination   \n",
       "214                       Je souhaite obtenir des informations sur mon voyage en avion.   \n",
       "19                               Perte des bagages sur Flight America Airlines à O'Hare   \n",
       "499                       J'ai des problèmes de gestion du temps, que devrais-je faire?   \n",
       "\n",
       "                 label  \n",
       "278       lost_luggage  \n",
       "135       travel_alert  \n",
       "356           carry_on  \n",
       "309  travel_suggestion  \n",
       "434        book_flight  \n",
       "143       travel_alert  \n",
       "17       flight_status  \n",
       "214      flight_status  \n",
       "19        lost_luggage  \n",
       "499       out_of_scope  "
      ]
     },
     "execution_count": 3,
     "metadata": {},
     "output_type": "execute_result"
    }
   ],
   "source": [
    "data.sample(n=10)"
   ]
  },
  {
   "cell_type": "code",
   "execution_count": 4,
   "id": "dc466f68",
   "metadata": {},
   "outputs": [
    {
     "data": {
      "text/plain": [
       "<Figure size 1152x1296 with 0 Axes>"
      ]
     },
     "metadata": {},
     "output_type": "display_data"
    },
    {
     "data": {
      "image/png": "[encoded data removed]",
      "text/plain": [
       "<Figure size 360x360 with 1 Axes>"
      ]
     },
     "metadata": {
      "needs_background": "light"
     },
     "output_type": "display_data"
    }
   ],
   "source": [
    "# Affichage de la distribution des longueurs des verbatim\n",
    "data['length'] = data['text'].apply(lambda x: len(x.split()))\n",
    "\n",
    "plt.figure(figsize = (16, 18))\n",
    "sns.displot(data['length'])\n",
    "plt.title('Number of words distribution')\n",
    "plt.xlabel('Number of words in the verbatim')\n",
    "plt.ylabel('Number of verbatim')\n",
    "plt.savefig('../docs/data_word_length_distribution.jpg', bbox_inches='tight', dpi=300)\n",
    "plt.show()"
   ]
  },
  {
   "cell_type": "code",
   "execution_count": 5,
   "id": "db723045",
   "metadata": {},
   "outputs": [
    {
     "data": {
      "image/png": "[encoded data removed]",
      "text/plain": [
       "<Figure size 720x288 with 1 Axes>"
      ]
     },
     "metadata": {
      "needs_background": "light"
     },
     "output_type": "display_data"
    }
   ],
   "source": [
    "# Affichage de la répartition des classes pour observer la distribution des données\n",
    "plt.figure(figsize = (10, 4))\n",
    "data['label'].value_counts().plot(kind='bar')\n",
    "plt.title('Class distribution of the dataset')\n",
    "plt.xlabel('Classes')\n",
    "plt.ylabel('Number of element')\n",
    "plt.savefig('../docs/class_distribution.jpg', bbox_inches='tight', dpi=300)\n",
    "plt.show()"
   ]
  },
  {
   "cell_type": "code",
   "execution_count": 6,
   "id": "d5a63c12",
   "metadata": {},
   "outputs": [],
   "source": [
    "# Construct a mapping between the class names and a unique id\n",
    "class_names = data.label.unique()\n",
    "class_name_to_label, label_to_class_name = map_class_to_int(class_names)"
   ]
  },
  {
   "cell_type": "code",
   "execution_count": 7,
   "id": "f9c75786",
   "metadata": {},
   "outputs": [],
   "source": [
    "# Transform the data in order to be used in a classification model\n",
    "text_data = data.text.values.copy()\n",
    "data_label = data.label.copy()\n",
    "for i in range(len(data_label)):\n",
    "    data_label[i] = class_name_to_label[data_label[i]]\n",
    "data_label = data_label.astype(int)"
   ]
  },
  {
   "cell_type": "code",
   "execution_count": 8,
   "id": "2d655f6a",
   "metadata": {},
   "outputs": [],
   "source": [
    "# Perform word embedding on the text data based on term frequency and inverse document frequency\n",
    "tfidf_vectorizer = TfidfVectorizer()\n",
    "tfidf_data = tfidf_vectorizer.fit_transform(text_data)"
   ]
  },
  {
   "cell_type": "code",
   "execution_count": 9,
   "id": "48c79be7",
   "metadata": {},
   "outputs": [],
   "source": [
    "# Split the data into a training and a test set\n",
    "X_train, X_test, y_train, y_test = train_test_split(tfidf_data, data_label, \n",
    "                                                    test_size=0.2, \n",
    "                                                    random_state=42, \n",
    "                                                    stratify=data_label)"
   ]
  },
  {
   "cell_type": "code",
   "execution_count": 10,
   "id": "fea2720f",
   "metadata": {},
   "outputs": [
    {
     "name": "stdout",
     "output_type": "stream",
     "text": [
      "Training set shape : (412, 728)\n",
      "Test set shape : (103, 728)\n"
     ]
    }
   ],
   "source": [
    "print(\"Training set shape :\", X_train.shape)\n",
    "print(\"Test set shape :\", X_test.shape)"
   ]
  },
  {
   "cell_type": "markdown",
   "id": "2cf6ac7a",
   "metadata": {},
   "source": [
    "<div>\n",
    "<b style=\"font-size: 20pt;\">MODEL BUILDING</b>\n",
    "</div>"
   ]
  },
  {
   "cell_type": "markdown",
   "id": "a20bbbfd",
   "metadata": {},
   "source": [
    "<div>\n",
    "<b style=\"font-size: 16pt;\">LOGISTIC REGRESSION</b>\n",
    "</div>"
   ]
  },
  {
   "cell_type": "code",
   "execution_count": 11,
   "id": "67865690",
   "metadata": {
    "scrolled": true
   },
   "outputs": [
    {
     "name": "stderr",
     "output_type": "stream",
     "text": [
      "/home/andy/anaconda3/lib/python3.9/site-packages/sklearn/linear_model/_sag.py:352: ConvergenceWarning: The max_iter was reached which means the coef_ did not converge\n",
      "  warnings.warn(\n",
      "/home/andy/anaconda3/lib/python3.9/site-packages/sklearn/linear_model/_sag.py:352: ConvergenceWarning: The max_iter was reached which means the coef_ did not converge\n",
      "  warnings.warn(\n",
      "/home/andy/anaconda3/lib/python3.9/site-packages/sklearn/linear_model/_sag.py:352: ConvergenceWarning: The max_iter was reached which means the coef_ did not converge\n",
      "  warnings.warn(\n",
      "/home/andy/anaconda3/lib/python3.9/site-packages/sklearn/linear_model/_sag.py:352: ConvergenceWarning: The max_iter was reached which means the coef_ did not converge\n",
      "  warnings.warn(\n",
      "/home/andy/anaconda3/lib/python3.9/site-packages/sklearn/linear_model/_sag.py:352: ConvergenceWarning: The max_iter was reached which means the coef_ did not converge\n",
      "  warnings.warn(\n",
      "/home/andy/anaconda3/lib/python3.9/site-packages/sklearn/linear_model/_sag.py:352: ConvergenceWarning: The max_iter was reached which means the coef_ did not converge\n",
      "  warnings.warn(\n",
      "/home/andy/anaconda3/lib/python3.9/site-packages/sklearn/svm/_base.py:1206: ConvergenceWarning: Liblinear failed to converge, increase the number of iterations.\n",
      "  warnings.warn(\n",
      "/home/andy/anaconda3/lib/python3.9/site-packages/sklearn/svm/_base.py:1206: ConvergenceWarning: Liblinear failed to converge, increase the number of iterations.\n",
      "  warnings.warn(\n",
      "/home/andy/anaconda3/lib/python3.9/site-packages/sklearn/svm/_base.py:1206: ConvergenceWarning: Liblinear failed to converge, increase the number of iterations.\n",
      "  warnings.warn(\n",
      "/home/andy/anaconda3/lib/python3.9/site-packages/sklearn/linear_model/_sag.py:352: ConvergenceWarning: The max_iter was reached which means the coef_ did not converge\n",
      "  warnings.warn(\n",
      "/home/andy/anaconda3/lib/python3.9/site-packages/sklearn/linear_model/_sag.py:352: ConvergenceWarning: The max_iter was reached which means the coef_ did not converge\n",
      "  warnings.warn(\n",
      "/home/andy/anaconda3/lib/python3.9/site-packages/sklearn/linear_model/_sag.py:352: ConvergenceWarning: The max_iter was reached which means the coef_ did not converge\n",
      "  warnings.warn(\n",
      "/home/andy/anaconda3/lib/python3.9/site-packages/sklearn/linear_model/_sag.py:352: ConvergenceWarning: The max_iter was reached which means the coef_ did not converge\n",
      "  warnings.warn(\n",
      "/home/andy/anaconda3/lib/python3.9/site-packages/sklearn/linear_model/_sag.py:352: ConvergenceWarning: The max_iter was reached which means the coef_ did not converge\n",
      "  warnings.warn(\n",
      "/home/andy/anaconda3/lib/python3.9/site-packages/sklearn/linear_model/_sag.py:352: ConvergenceWarning: The max_iter was reached which means the coef_ did not converge\n",
      "  warnings.warn(\n",
      "/home/andy/anaconda3/lib/python3.9/site-packages/sklearn/linear_model/_sag.py:352: ConvergenceWarning: The max_iter was reached which means the coef_ did not converge\n",
      "  warnings.warn(\n",
      "/home/andy/anaconda3/lib/python3.9/site-packages/sklearn/linear_model/_sag.py:352: ConvergenceWarning: The max_iter was reached which means the coef_ did not converge\n",
      "  warnings.warn(\n",
      "/home/andy/anaconda3/lib/python3.9/site-packages/sklearn/linear_model/_sag.py:352: ConvergenceWarning: The max_iter was reached which means the coef_ did not converge\n",
      "  warnings.warn(\n",
      "/home/andy/anaconda3/lib/python3.9/site-packages/sklearn/linear_model/_sag.py:352: ConvergenceWarning: The max_iter was reached which means the coef_ did not converge\n",
      "  warnings.warn(\n",
      "/home/andy/anaconda3/lib/python3.9/site-packages/sklearn/linear_model/_sag.py:352: ConvergenceWarning: The max_iter was reached which means the coef_ did not converge\n",
      "  warnings.warn(\n",
      "/home/andy/anaconda3/lib/python3.9/site-packages/sklearn/linear_model/_sag.py:352: ConvergenceWarning: The max_iter was reached which means the coef_ did not converge\n",
      "  warnings.warn(\n",
      "/home/andy/anaconda3/lib/python3.9/site-packages/sklearn/linear_model/_sag.py:352: ConvergenceWarning: The max_iter was reached which means the coef_ did not converge\n",
      "  warnings.warn(\n",
      "/home/andy/anaconda3/lib/python3.9/site-packages/sklearn/linear_model/_sag.py:352: ConvergenceWarning: The max_iter was reached which means the coef_ did not converge\n",
      "  warnings.warn(\n",
      "/home/andy/anaconda3/lib/python3.9/site-packages/sklearn/linear_model/_sag.py:352: ConvergenceWarning: The max_iter was reached which means the coef_ did not converge\n",
      "  warnings.warn(\n",
      "/home/andy/anaconda3/lib/python3.9/site-packages/sklearn/linear_model/_sag.py:352: ConvergenceWarning: The max_iter was reached which means the coef_ did not converge\n",
      "  warnings.warn(\n",
      "/home/andy/anaconda3/lib/python3.9/site-packages/sklearn/linear_model/_sag.py:352: ConvergenceWarning: The max_iter was reached which means the coef_ did not converge\n",
      "  warnings.warn(\n",
      "/home/andy/anaconda3/lib/python3.9/site-packages/sklearn/linear_model/_sag.py:352: ConvergenceWarning: The max_iter was reached which means the coef_ did not converge\n",
      "  warnings.warn(\n",
      "/home/andy/anaconda3/lib/python3.9/site-packages/sklearn/linear_model/_sag.py:352: ConvergenceWarning: The max_iter was reached which means the coef_ did not converge\n",
      "  warnings.warn(\n",
      "/home/andy/anaconda3/lib/python3.9/site-packages/sklearn/linear_model/_sag.py:352: ConvergenceWarning: The max_iter was reached which means the coef_ did not converge\n",
      "  warnings.warn(\n",
      "/home/andy/anaconda3/lib/python3.9/site-packages/sklearn/linear_model/_sag.py:352: ConvergenceWarning: The max_iter was reached which means the coef_ did not converge\n",
      "  warnings.warn(\n"
     ]
    },
    {
     "data": {
      "text/plain": [
       "GridSearchCV(cv=5, estimator=LogisticRegression(),\n",
       "             param_grid={'C': [0.001, 0.01, 0.1, 1, 10, 100],\n",
       "                         'penalty': ['l1', 'l2'],\n",
       "                         'solver': ['liblinear', 'saga']},\n",
       "             scoring='accuracy')"
      ]
     },
     "execution_count": 11,
     "metadata": {},
     "output_type": "execute_result"
    }
   ],
   "source": [
    "from sklearn.linear_model import LogisticRegression\n",
    "\n",
    "log_reg = LogisticRegression() \n",
    "\n",
    "param_grid_log_reg = {\n",
    "    'C': [0.001, 0.01, 0.1, 1, 10, 100],\n",
    "    'penalty': ['l1', 'l2'],\n",
    "    'solver': ['liblinear', 'saga']\n",
    "}\n",
    "\n",
    "grid_search_log_reg = GridSearchCV(log_reg, param_grid_log_reg, cv=5, scoring='accuracy')\n",
    "grid_search_log_reg.fit(X_train, y_train)"
   ]
  },
  {
   "cell_type": "code",
   "execution_count": 12,
   "id": "20ff9886",
   "metadata": {},
   "outputs": [
    {
     "name": "stdout",
     "output_type": "stream",
     "text": [
      "{'C': 100, 'penalty': 'l2', 'solver': 'saga'}\n"
     ]
    }
   ],
   "source": [
    "best_params_log_reg = grid_search_log_reg.best_params_\n",
    "best_model_log_reg = grid_search_log_reg.best_estimator_\n",
    "print(best_params_log_reg)"
   ]
  },
  {
   "cell_type": "code",
   "execution_count": 13,
   "id": "7924eda4",
   "metadata": {},
   "outputs": [
    {
     "name": "stdout",
     "output_type": "stream",
     "text": [
      "Accuracy: 0.91\n",
      "Precision: 0.91\n",
      "Recall: 0.91\n",
      "F1-score: 0.91\n",
      "                   precision    recall  f1-score   support\n",
      "\n",
      "        translate       1.00      1.00      1.00        12\n",
      "     travel_alert       0.91      0.91      0.91        11\n",
      "    flight_status       0.92      1.00      0.96        12\n",
      "     lost_luggage       1.00      1.00      1.00        11\n",
      "travel_suggestion       0.86      0.55      0.67        11\n",
      "         carry_on       1.00      1.00      1.00        11\n",
      "       book_hotel       0.79      1.00      0.88        11\n",
      "      book_flight       0.91      0.91      0.91        11\n",
      "     out_of_scope       0.85      0.85      0.85        13\n",
      "\n",
      "         accuracy                           0.91       103\n",
      "        macro avg       0.91      0.91      0.91       103\n",
      "     weighted avg       0.91      0.91      0.91       103\n",
      "\n"
     ]
    },
    {
     "data": {
      "image/png": "[encoded data removed]",
      "text/plain": [
       "<Figure size 432x288 with 2 Axes>"
      ]
     },
     "metadata": {
      "needs_background": "light"
     },
     "output_type": "display_data"
    }
   ],
   "source": [
    "display_all_results(best_model_log_reg, X_test, y_test, class_names)"
   ]
  },
  {
   "cell_type": "code",
   "execution_count": 14,
   "id": "f921fa5f",
   "metadata": {},
   "outputs": [
    {
     "data": {
      "text/plain": [
       "'carry_on'"
      ]
     },
     "execution_count": 14,
     "metadata": {},
     "output_type": "execute_result"
    }
   ],
   "source": [
    "test_text = \"je peux prendre mon ordinateur avec moi dans l'avion ?\"\n",
    "single_prediction(test_text, best_model_log_reg, label_to_class_name, tfidf_vectorizer)"
   ]
  },
  {
   "cell_type": "markdown",
   "id": "86858c50",
   "metadata": {},
   "source": [
    "<div>\n",
    "<b style=\"font-size: 16pt;\">RANDOM FOREST</b>\n",
    "</div>"
   ]
  },
  {
   "cell_type": "code",
   "execution_count": 15,
   "id": "80fb90ce",
   "metadata": {
    "scrolled": false
   },
   "outputs": [
    {
     "data": {
      "text/plain": [
       "GridSearchCV(cv=5, estimator=RandomForestClassifier(),\n",
       "             param_grid={'max_depth': [None, 10, 20],\n",
       "                         'max_features': [None, 'sqrt'],\n",
       "                         'n_estimators': [100, 200]},\n",
       "             scoring='accuracy')"
      ]
     },
     "execution_count": 15,
     "metadata": {},
     "output_type": "execute_result"
    }
   ],
   "source": [
    "from sklearn.ensemble import RandomForestClassifier\n",
    "\n",
    "random_forest = RandomForestClassifier()\n",
    "\n",
    "param_grid_random_forest = {\n",
    "    'n_estimators': [100, 200],\n",
    "    'max_depth': [None, 10, 20],\n",
    "    'max_features': [None, 'sqrt']\n",
    "}\n",
    "\n",
    "grid_search_random_forest = GridSearchCV(random_forest, param_grid_random_forest, cv=5, scoring='accuracy')\n",
    "grid_search_random_forest.fit(X_train, y_train)"
   ]
  },
  {
   "cell_type": "code",
   "execution_count": 16,
   "id": "71948ac2",
   "metadata": {
    "scrolled": true
   },
   "outputs": [
    {
     "name": "stdout",
     "output_type": "stream",
     "text": [
      "{'max_depth': None, 'max_features': 'sqrt', 'n_estimators': 200}\n"
     ]
    }
   ],
   "source": [
    "best_params_random_forest = grid_search_random_forest.best_params_\n",
    "best_model_random_forest = grid_search_random_forest.best_estimator_\n",
    "print(best_params_random_forest)"
   ]
  },
  {
   "cell_type": "code",
   "execution_count": 17,
   "id": "28f3898a",
   "metadata": {},
   "outputs": [
    {
     "name": "stdout",
     "output_type": "stream",
     "text": [
      "Accuracy: 0.88\n",
      "Precision: 0.91\n",
      "Recall: 0.88\n",
      "F1-score: 0.88\n",
      "                   precision    recall  f1-score   support\n",
      "\n",
      "        translate       0.92      1.00      0.96        12\n",
      "     travel_alert       0.75      0.82      0.78        11\n",
      "    flight_status       0.86      1.00      0.92        12\n",
      "     lost_luggage       1.00      1.00      1.00        11\n",
      "travel_suggestion       1.00      0.55      0.71        11\n",
      "         carry_on       1.00      1.00      1.00        11\n",
      "       book_hotel       0.90      0.82      0.86        11\n",
      "      book_flight       1.00      0.73      0.84        11\n",
      "     out_of_scope       0.72      1.00      0.84        13\n",
      "\n",
      "         accuracy                           0.88       103\n",
      "        macro avg       0.91      0.88      0.88       103\n",
      "     weighted avg       0.90      0.88      0.88       103\n",
      "\n"
     ]
    },
    {
     "data": {
      "image/png": "[encoded data removed]",
      "text/plain": [
       "<Figure size 432x288 with 2 Axes>"
      ]
     },
     "metadata": {
      "needs_background": "light"
     },
     "output_type": "display_data"
    }
   ],
   "source": [
    "display_all_results(best_model_random_forest, X_test, y_test, class_names)"
   ]
  },
  {
   "cell_type": "code",
   "execution_count": 18,
   "id": "dc94a1e5",
   "metadata": {},
   "outputs": [
    {
     "data": {
      "text/plain": [
       "'lost_luggage'"
      ]
     },
     "execution_count": 18,
     "metadata": {},
     "output_type": "execute_result"
    }
   ],
   "source": [
    "test_text =\"mes valises sont où?\"\n",
    "single_prediction(test_text, best_model_random_forest, label_to_class_name, tfidf_vectorizer)"
   ]
  },
  {
   "cell_type": "markdown",
   "id": "6fd21a5b",
   "metadata": {},
   "source": [
    "<div>\n",
    "<b style=\"font-size: 16pt;\">K-NN : K-Nearest Neighboor</b>\n",
    "</div>"
   ]
  },
  {
   "cell_type": "code",
   "execution_count": 19,
   "id": "e6d8f11b",
   "metadata": {},
   "outputs": [
    {
     "data": {
      "text/plain": [
       "GridSearchCV(cv=5, estimator=KNeighborsClassifier(),\n",
       "             param_grid={'n_neighbors': range(2, 15)}, scoring='accuracy')"
      ]
     },
     "execution_count": 19,
     "metadata": {},
     "output_type": "execute_result"
    }
   ],
   "source": [
    "from sklearn.neighbors import KNeighborsClassifier\n",
    "\n",
    "knn = KNeighborsClassifier()\n",
    "\n",
    "param_grid_knn = {'n_neighbors': range(2, 15)}\n",
    "\n",
    "grid_search_knn = GridSearchCV(knn, param_grid_knn, cv=5, scoring='accuracy')\n",
    "grid_search_knn.fit(X_train, y_train)"
   ]
  },
  {
   "cell_type": "code",
   "execution_count": 20,
   "id": "828c5d60",
   "metadata": {},
   "outputs": [
    {
     "name": "stdout",
     "output_type": "stream",
     "text": [
      "{'n_neighbors': 3}\n"
     ]
    }
   ],
   "source": [
    "best_params_knn = grid_search_knn.best_params_\n",
    "best_model_knn = grid_search_knn.best_estimator_\n",
    "print(best_params_knn)"
   ]
  },
  {
   "cell_type": "code",
   "execution_count": 21,
   "id": "b4508d71",
   "metadata": {
    "scrolled": false
   },
   "outputs": [
    {
     "name": "stdout",
     "output_type": "stream",
     "text": [
      "Accuracy: 0.80\n",
      "Precision: 0.81\n",
      "Recall: 0.80\n",
      "F1-score: 0.79\n",
      "                   precision    recall  f1-score   support\n",
      "\n",
      "        translate       0.80      1.00      0.89        12\n",
      "     travel_alert       1.00      0.73      0.84        11\n",
      "    flight_status       0.71      1.00      0.83        12\n",
      "     lost_luggage       0.91      0.91      0.91        11\n",
      "travel_suggestion       0.70      0.64      0.67        11\n",
      "         carry_on       1.00      1.00      1.00        11\n",
      "       book_hotel       0.70      0.64      0.67        11\n",
      "      book_flight       0.69      0.82      0.75        11\n",
      "     out_of_scope       0.75      0.46      0.57        13\n",
      "\n",
      "         accuracy                           0.80       103\n",
      "        macro avg       0.81      0.80      0.79       103\n",
      "     weighted avg       0.80      0.80      0.79       103\n",
      "\n"
     ]
    },
    {
     "data": {
      "image/png": "[encoded data removed]",
      "text/plain": [
       "<Figure size 432x288 with 2 Axes>"
      ]
     },
     "metadata": {
      "needs_background": "light"
     },
     "output_type": "display_data"
    }
   ],
   "source": [
    "display_all_results(best_model_knn, X_test, y_test, class_names)"
   ]
  },
  {
   "cell_type": "code",
   "execution_count": 22,
   "id": "3416ebae",
   "metadata": {},
   "outputs": [
    {
     "data": {
      "text/plain": [
       "'out_of_scope'"
      ]
     },
     "execution_count": 22,
     "metadata": {},
     "output_type": "execute_result"
    }
   ],
   "source": [
    "test_text =\"tu penses quoi du modèle KNN pour classifier des documents ?\"\n",
    "single_prediction(test_text, best_model_knn, label_to_class_name, tfidf_vectorizer)"
   ]
  },
  {
   "cell_type": "markdown",
   "id": "90a41f89",
   "metadata": {},
   "source": [
    "<div>\n",
    "<b style=\"font-size: 16pt;\">SVC : Support Vector Classifier </b>\n",
    "</div>"
   ]
  },
  {
   "cell_type": "code",
   "execution_count": 23,
   "id": "860fcb78",
   "metadata": {},
   "outputs": [
    {
     "data": {
      "text/plain": [
       "GridSearchCV(cv=5, estimator=SVC(),\n",
       "             param_grid={'C': [0.1, 1, 10],\n",
       "                         'decision_function_shape': ['ovo', 'ovr'],\n",
       "                         'degree': [2, 3, 4], 'gamma': [0.1, 1, 10],\n",
       "                         'kernel': ['linear', 'rbf', 'poly']},\n",
       "             scoring='accuracy')"
      ]
     },
     "execution_count": 23,
     "metadata": {},
     "output_type": "execute_result"
    }
   ],
   "source": [
    "from sklearn.svm import SVC\n",
    "\n",
    "svc = SVC()\n",
    "\n",
    "param_grid_svc = {\n",
    "    'C': [0.1, 1, 10],\n",
    "    'kernel': ['linear', 'rbf', 'poly'],\n",
    "    'gamma': [0.1, 1, 10],\n",
    "    'degree': [2, 3, 4],\n",
    "    'decision_function_shape': ['ovo', 'ovr']\n",
    "}\n",
    "\n",
    "grid_search_svc = GridSearchCV(svc, param_grid_svc, cv=5, scoring='accuracy')\n",
    "grid_search_svc.fit(X_train, y_train)"
   ]
  },
  {
   "cell_type": "code",
   "execution_count": 24,
   "id": "2120f692",
   "metadata": {},
   "outputs": [
    {
     "name": "stdout",
     "output_type": "stream",
     "text": [
      "{'C': 10, 'decision_function_shape': 'ovo', 'degree': 2, 'gamma': 0.1, 'kernel': 'rbf'}\n"
     ]
    }
   ],
   "source": [
    "best_params_svc = grid_search_svc.best_params_\n",
    "best_model_svc = grid_search_svc.best_estimator_\n",
    "print(best_params_svc)"
   ]
  },
  {
   "cell_type": "code",
   "execution_count": 25,
   "id": "0d2a3322",
   "metadata": {},
   "outputs": [
    {
     "name": "stdout",
     "output_type": "stream",
     "text": [
      "Accuracy: 0.91\n",
      "Precision: 0.92\n",
      "Recall: 0.91\n",
      "F1-score: 0.91\n",
      "                   precision    recall  f1-score   support\n",
      "\n",
      "        translate       1.00      1.00      1.00        12\n",
      "     travel_alert       0.91      0.91      0.91        11\n",
      "    flight_status       0.92      1.00      0.96        12\n",
      "     lost_luggage       1.00      1.00      1.00        11\n",
      "travel_suggestion       0.86      0.55      0.67        11\n",
      "         carry_on       1.00      1.00      1.00        11\n",
      "       book_hotel       0.91      0.91      0.91        11\n",
      "      book_flight       1.00      0.91      0.95        11\n",
      "     out_of_scope       0.71      0.92      0.80        13\n",
      "\n",
      "         accuracy                           0.91       103\n",
      "        macro avg       0.92      0.91      0.91       103\n",
      "     weighted avg       0.92      0.91      0.91       103\n",
      "\n"
     ]
    },
    {
     "data": {
      "image/png": "[encoded data removed]",
      "text/plain": [
       "<Figure size 432x288 with 2 Axes>"
      ]
     },
     "metadata": {
      "needs_background": "light"
     },
     "output_type": "display_data"
    }
   ],
   "source": [
    "display_all_results(best_model_svc, X_test, y_test, class_names)"
   ]
  },
  {
   "cell_type": "code",
   "execution_count": 26,
   "id": "f0c073ee",
   "metadata": {},
   "outputs": [
    {
     "data": {
      "text/plain": [
       "'travel_suggestion'"
      ]
     },
     "execution_count": 26,
     "metadata": {},
     "output_type": "execute_result"
    }
   ],
   "source": [
    "test_text =\"j'aimerai bien aller en corée du sud\"\n",
    "single_prediction(test_text, best_model_svc, label_to_class_name, tfidf_vectorizer)"
   ]
  },
  {
   "cell_type": "markdown",
   "id": "fdb3c639",
   "metadata": {},
   "source": [
    "Au vu des différents résultats obtenus pour les différents algorithmes qui ont été testés, le modèles qui semblent être le plus performants est le $\\textbf{SVM}$. \n",
    "\n",
    "Une attention particulière a été porté sur la classe $\\texttt{lost}$_$\\texttt{luggage}$. Et en particulier sur la métrique False Positive Rate, qui doit être le plus petit possible car dans le cas contraire, les faux positifs sur cette classe redirigerait vers un service client qui a des conseillers téléphoniques ayant un coût élevé."
   ]
  }
 ],
 "metadata": {
  "kernelspec": {
   "display_name": "Python 3 (ipykernel)",
   "language": "python",
   "name": "python3"
  },
  "language_info": {
   "codemirror_mode": {
    "name": "ipython",
    "version": 3
   },
   "file_extension": ".py",
   "mimetype": "text/x-python",
   "name": "python",
   "nbconvert_exporter": "python",
   "pygments_lexer": "ipython3",
   "version": "3.9.12"
  }
 },
 "nbformat": 4,
 "nbformat_minor": 5
}
