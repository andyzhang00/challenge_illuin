{
 "cells": [
  {
   "cell_type": "markdown",
   "id": "0739afd1",
   "metadata": {
    "id": "0739afd1"
   },
   "source": [
    "<div style=\"color: #ffffff; background-color: #2979ff; border-bottom: 1px solid #004ecb; padding: 2em;\">\n",
    "<b style=\"font-size: 20pt;\">ILLUIN TECHNOLOGY</b>\n",
    "    \n",
    "<b style=\"font-size: 20pt;\">Détection d'intention dans un chatbot</b> <br> <br>\n",
    "<b style=\"font-size: 14pt;\">Andy Zhang</b>\n",
    "</div>"
   ]
  },
  {
   "cell_type": "markdown",
   "id": "04448dea",
   "metadata": {
    "id": "04448dea"
   },
   "source": [
    "Ce Notebook contient une seconde solution au problème proposé, en utilisant en particulier des modèles de Deep Learning et en particulier CamemBERT (Version française de BERT)."
   ]
  },
  {
   "cell_type": "code",
   "execution_count": null,
   "id": "a9b829ff",
   "metadata": {
    "id": "a9b829ff"
   },
   "outputs": [],
   "source": [
    "import pandas as pd\n",
    "pd.set_option('display.max_colwidth', None) # To display all the text\n",
    "\n",
    "import numpy as np\n",
    "from sklearn.model_selection import train_test_split\n",
    "from datasets import Dataset\n",
    "\n",
    "from transformers import CamembertTokenizer, CamembertForSequenceClassification\n",
    "from transformers import Trainer, TrainingArguments\n",
    "\n",
    "from utils import map_class_to_int, convert_class_name_to_id, display_all_results_dnn"
   ]
  },
  {
   "cell_type": "markdown",
   "id": "72dac860",
   "metadata": {
    "id": "72dac860"
   },
   "source": [
    "<div>\n",
    "<b style=\"font-size: 20pt;\">DATA PRE-PROCESSING</b>\n",
    "</div>"
   ]
  },
  {
   "cell_type": "code",
   "execution_count": null,
   "id": "19f29d6a",
   "metadata": {
    "id": "19f29d6a"
   },
   "outputs": [],
   "source": [
    "# Load the data\n",
    "data = pd.read_csv('intent-detection-train.csv')"
   ]
  },
  {
   "cell_type": "code",
   "execution_count": null,
   "id": "c5f97bff",
   "metadata": {
    "colab": {
     "base_uri": "https://localhost:8080/",
     "height": 363
    },
    "id": "c5f97bff",
    "outputId": "174cb1f5-aec0-4b94-e354-711678039eec"
   },
   "outputs": [
    {
     "data": {
      "text/html": [
       "\n",
       "  <div id=\"df-d8b06067-6fc6-40a1-a461-0a29570aaa15\" class=\"colab-df-container\">\n",
       "    <div>\n",
       "<style scoped>\n",
       "    .dataframe tbody tr th:only-of-type {\n",
       "        vertical-align: middle;\n",
       "    }\n",
       "\n",
       "    .dataframe tbody tr th {\n",
       "        vertical-align: top;\n",
       "    }\n",
       "\n",
       "    .dataframe thead th {\n",
       "        text-align: right;\n",
       "    }\n",
       "</style>\n",
       "<table border=\"1\" class=\"dataframe\">\n",
       "  <thead>\n",
       "    <tr style=\"text-align: right;\">\n",
       "      <th></th>\n",
       "      <th>text</th>\n",
       "      <th>label</th>\n",
       "    </tr>\n",
       "  </thead>\n",
       "  <tbody>\n",
       "    <tr>\n",
       "      <th>426</th>\n",
       "      <td>Est-ce que vous pouvez me donner des informations sur les vols disponibles?</td>\n",
       "      <td>book_flight</td>\n",
       "    </tr>\n",
       "    <tr>\n",
       "      <th>244</th>\n",
       "      <td>Je pense que mes bagages sont égarés, comment le vérifier?</td>\n",
       "      <td>lost_luggage</td>\n",
       "    </tr>\n",
       "    <tr>\n",
       "      <th>353</th>\n",
       "      <td>Pouvez-vous me renseigner sur les exigences pour les bagages à main en cabine?</td>\n",
       "      <td>carry_on</td>\n",
       "    </tr>\n",
       "    <tr>\n",
       "      <th>317</th>\n",
       "      <td>Quels sont les endroits idéaux pour des vacances de détente?</td>\n",
       "      <td>travel_suggestion</td>\n",
       "    </tr>\n",
       "    <tr>\n",
       "      <th>227</th>\n",
       "      <td>Est-ce que mon voyage en avion est en avance ou en retard?</td>\n",
       "      <td>flight_status</td>\n",
       "    </tr>\n",
       "    <tr>\n",
       "      <th>139</th>\n",
       "      <td>Je vais bientôt voyager, devrais-je m'inquiéter de la situation?</td>\n",
       "      <td>travel_alert</td>\n",
       "    </tr>\n",
       "    <tr>\n",
       "      <th>202</th>\n",
       "      <td>Je veux vérifier si mon voyage est à l'heure.</td>\n",
       "      <td>flight_status</td>\n",
       "    </tr>\n",
       "    <tr>\n",
       "      <th>168</th>\n",
       "      <td>Je me demande s'il y a des problèmes de sécurité à ma destination.</td>\n",
       "      <td>travel_alert</td>\n",
       "    </tr>\n",
       "    <tr>\n",
       "      <th>171</th>\n",
       "      <td>Je prévois de me rendre là-bas, mais je veux connaître la situation.</td>\n",
       "      <td>travel_alert</td>\n",
       "    </tr>\n",
       "    <tr>\n",
       "      <th>494</th>\n",
       "      <td>J'aimerais des conseils pour améliorer ma productivité au travail.</td>\n",
       "      <td>out_of_scope</td>\n",
       "    </tr>\n",
       "  </tbody>\n",
       "</table>\n",
       "</div>\n",
       "    <div class=\"colab-df-buttons\">\n",
       "\n",
       "  <div class=\"colab-df-container\">\n",
       "    <button class=\"colab-df-convert\" onclick=\"convertToInteractive('df-d8b06067-6fc6-40a1-a461-0a29570aaa15')\"\n",
       "            title=\"Convert this dataframe to an interactive table.\"\n",
       "            style=\"display:none;\">\n",
       "\n",
       "  <svg xmlns=\"http://www.w3.org/2000/svg\" height=\"24px\" viewBox=\"0 -960 960 960\">\n",
       "    <path d=\"M120-120v-720h720v720H120Zm60-500h600v-160H180v160Zm220 220h160v-160H400v160Zm0 220h160v-160H400v160ZM180-400h160v-160H180v160Zm440 0h160v-160H620v160ZM180-180h160v-160H180v160Zm440 0h160v-160H620v160Z\"/>\n",
       "  </svg>\n",
       "    </button>\n",
       "\n",
       "  <style>\n",
       "    .colab-df-container {\n",
       "      display:flex;\n",
       "      gap: 12px;\n",
       "    }\n",
       "\n",
       "    .colab-df-convert {\n",
       "      background-color: #E8F0FE;\n",
       "      border: none;\n",
       "      border-radius: 50%;\n",
       "      cursor: pointer;\n",
       "      display: none;\n",
       "      fill: #1967D2;\n",
       "      height: 32px;\n",
       "      padding: 0 0 0 0;\n",
       "      width: 32px;\n",
       "    }\n",
       "\n",
       "    .colab-df-convert:hover {\n",
       "      background-color: #E2EBFA;\n",
       "      box-shadow: 0px 1px 2px rgba(60, 64, 67, 0.3), 0px 1px 3px 1px rgba(60, 64, 67, 0.15);\n",
       "      fill: #174EA6;\n",
       "    }\n",
       "\n",
       "    .colab-df-buttons div {\n",
       "      margin-bottom: 4px;\n",
       "    }\n",
       "\n",
       "    [theme=dark] .colab-df-convert {\n",
       "      background-color: #3B4455;\n",
       "      fill: #D2E3FC;\n",
       "    }\n",
       "\n",
       "    [theme=dark] .colab-df-convert:hover {\n",
       "      background-color: #434B5C;\n",
       "      box-shadow: 0px 1px 3px 1px rgba(0, 0, 0, 0.15);\n",
       "      filter: drop-shadow(0px 1px 2px rgba(0, 0, 0, 0.3));\n",
       "      fill: #FFFFFF;\n",
       "    }\n",
       "  </style>\n",
       "\n",
       "    <script>\n",
       "      const buttonEl =\n",
       "        document.querySelector('#df-d8b06067-6fc6-40a1-a461-0a29570aaa15 button.colab-df-convert');\n",
       "      buttonEl.style.display =\n",
       "        google.colab.kernel.accessAllowed ? 'block' : 'none';\n",
       "\n",
       "      async function convertToInteractive(key) {\n",
       "        const element = document.querySelector('#df-d8b06067-6fc6-40a1-a461-0a29570aaa15');\n",
       "        const dataTable =\n",
       "          await google.colab.kernel.invokeFunction('convertToInteractive',\n",
       "                                                    [key], {});\n",
       "        if (!dataTable) return;\n",
       "\n",
       "        const docLinkHtml = 'Like what you see? Visit the ' +\n",
       "          '<a target=\"_blank\" href=https://colab.research.google.com/notebooks/data_table.ipynb>data table notebook</a>'\n",
       "          + ' to learn more about interactive tables.';\n",
       "        element.innerHTML = '';\n",
       "        dataTable['output_type'] = 'display_data';\n",
       "        await google.colab.output.renderOutput(dataTable, element);\n",
       "        const docLink = document.createElement('div');\n",
       "        docLink.innerHTML = docLinkHtml;\n",
       "        element.appendChild(docLink);\n",
       "      }\n",
       "    </script>\n",
       "  </div>\n",
       "\n",
       "\n",
       "<div id=\"df-c0df6e48-284d-4d7b-b0a2-e7c1559e8863\">\n",
       "  <button class=\"colab-df-quickchart\" onclick=\"quickchart('df-c0df6e48-284d-4d7b-b0a2-e7c1559e8863')\"\n",
       "            title=\"Suggest charts.\"\n",
       "            style=\"display:none;\">\n",
       "\n",
       "<svg xmlns=\"http://www.w3.org/2000/svg\" height=\"24px\"viewBox=\"0 0 24 24\"\n",
       "     width=\"24px\">\n",
       "    <g>\n",
       "        <path d=\"M19 3H5c-1.1 0-2 .9-2 2v14c0 1.1.9 2 2 2h14c1.1 0 2-.9 2-2V5c0-1.1-.9-2-2-2zM9 17H7v-7h2v7zm4 0h-2V7h2v10zm4 0h-2v-4h2v4z\"/>\n",
       "    </g>\n",
       "</svg>\n",
       "  </button>\n",
       "\n",
       "<style>\n",
       "  .colab-df-quickchart {\n",
       "      --bg-color: #E8F0FE;\n",
       "      --fill-color: #1967D2;\n",
       "      --hover-bg-color: #E2EBFA;\n",
       "      --hover-fill-color: #174EA6;\n",
       "      --disabled-fill-color: #AAA;\n",
       "      --disabled-bg-color: #DDD;\n",
       "  }\n",
       "\n",
       "  [theme=dark] .colab-df-quickchart {\n",
       "      --bg-color: #3B4455;\n",
       "      --fill-color: #D2E3FC;\n",
       "      --hover-bg-color: #434B5C;\n",
       "      --hover-fill-color: #FFFFFF;\n",
       "      --disabled-bg-color: #3B4455;\n",
       "      --disabled-fill-color: #666;\n",
       "  }\n",
       "\n",
       "  .colab-df-quickchart {\n",
       "    background-color: var(--bg-color);\n",
       "    border: none;\n",
       "    border-radius: 50%;\n",
       "    cursor: pointer;\n",
       "    display: none;\n",
       "    fill: var(--fill-color);\n",
       "    height: 32px;\n",
       "    padding: 0;\n",
       "    width: 32px;\n",
       "  }\n",
       "\n",
       "  .colab-df-quickchart:hover {\n",
       "    background-color: var(--hover-bg-color);\n",
       "    box-shadow: 0 1px 2px rgba(60, 64, 67, 0.3), 0 1px 3px 1px rgba(60, 64, 67, 0.15);\n",
       "    fill: var(--button-hover-fill-color);\n",
       "  }\n",
       "\n",
       "  .colab-df-quickchart-complete:disabled,\n",
       "  .colab-df-quickchart-complete:disabled:hover {\n",
       "    background-color: var(--disabled-bg-color);\n",
       "    fill: var(--disabled-fill-color);\n",
       "    box-shadow: none;\n",
       "  }\n",
       "\n",
       "  .colab-df-spinner {\n",
       "    border: 2px solid var(--fill-color);\n",
       "    border-color: transparent;\n",
       "    border-bottom-color: var(--fill-color);\n",
       "    animation:\n",
       "      spin 1s steps(1) infinite;\n",
       "  }\n",
       "\n",
       "  @keyframes spin {\n",
       "    0% {\n",
       "      border-color: transparent;\n",
       "      border-bottom-color: var(--fill-color);\n",
       "      border-left-color: var(--fill-color);\n",
       "    }\n",
       "    20% {\n",
       "      border-color: transparent;\n",
       "      border-left-color: var(--fill-color);\n",
       "      border-top-color: var(--fill-color);\n",
       "    }\n",
       "    30% {\n",
       "      border-color: transparent;\n",
       "      border-left-color: var(--fill-color);\n",
       "      border-top-color: var(--fill-color);\n",
       "      border-right-color: var(--fill-color);\n",
       "    }\n",
       "    40% {\n",
       "      border-color: transparent;\n",
       "      border-right-color: var(--fill-color);\n",
       "      border-top-color: var(--fill-color);\n",
       "    }\n",
       "    60% {\n",
       "      border-color: transparent;\n",
       "      border-right-color: var(--fill-color);\n",
       "    }\n",
       "    80% {\n",
       "      border-color: transparent;\n",
       "      border-right-color: var(--fill-color);\n",
       "      border-bottom-color: var(--fill-color);\n",
       "    }\n",
       "    90% {\n",
       "      border-color: transparent;\n",
       "      border-bottom-color: var(--fill-color);\n",
       "    }\n",
       "  }\n",
       "</style>\n",
       "\n",
       "  <script>\n",
       "    async function quickchart(key) {\n",
       "      const quickchartButtonEl =\n",
       "        document.querySelector('#' + key + ' button');\n",
       "      quickchartButtonEl.disabled = true;  // To prevent multiple clicks.\n",
       "      quickchartButtonEl.classList.add('colab-df-spinner');\n",
       "      try {\n",
       "        const charts = await google.colab.kernel.invokeFunction(\n",
       "            'suggestCharts', [key], {});\n",
       "      } catch (error) {\n",
       "        console.error('Error during call to suggestCharts:', error);\n",
       "      }\n",
       "      quickchartButtonEl.classList.remove('colab-df-spinner');\n",
       "      quickchartButtonEl.classList.add('colab-df-quickchart-complete');\n",
       "    }\n",
       "    (() => {\n",
       "      let quickchartButtonEl =\n",
       "        document.querySelector('#df-c0df6e48-284d-4d7b-b0a2-e7c1559e8863 button');\n",
       "      quickchartButtonEl.style.display =\n",
       "        google.colab.kernel.accessAllowed ? 'block' : 'none';\n",
       "    })();\n",
       "  </script>\n",
       "</div>\n",
       "    </div>\n",
       "  </div>\n"
      ],
      "text/plain": [
       "                                                                               text  \\\n",
       "426     Est-ce que vous pouvez me donner des informations sur les vols disponibles?   \n",
       "244                      Je pense que mes bagages sont égarés, comment le vérifier?   \n",
       "353  Pouvez-vous me renseigner sur les exigences pour les bagages à main en cabine?   \n",
       "317                    Quels sont les endroits idéaux pour des vacances de détente?   \n",
       "227                      Est-ce que mon voyage en avion est en avance ou en retard?   \n",
       "139                Je vais bientôt voyager, devrais-je m'inquiéter de la situation?   \n",
       "202                                   Je veux vérifier si mon voyage est à l'heure.   \n",
       "168              Je me demande s'il y a des problèmes de sécurité à ma destination.   \n",
       "171            Je prévois de me rendre là-bas, mais je veux connaître la situation.   \n",
       "494              J'aimerais des conseils pour améliorer ma productivité au travail.   \n",
       "\n",
       "                 label  \n",
       "426        book_flight  \n",
       "244       lost_luggage  \n",
       "353           carry_on  \n",
       "317  travel_suggestion  \n",
       "227      flight_status  \n",
       "139       travel_alert  \n",
       "202      flight_status  \n",
       "168       travel_alert  \n",
       "171       travel_alert  \n",
       "494       out_of_scope  "
      ]
     },
     "execution_count": 3,
     "metadata": {},
     "output_type": "execute_result"
    }
   ],
   "source": [
    "data.sample(n=10)"
   ]
  },
  {
   "cell_type": "code",
   "execution_count": null,
   "id": "PrgMRThkfI7w",
   "metadata": {
    "id": "PrgMRThkfI7w"
   },
   "outputs": [],
   "source": [
    "class_names = data.label.unique()\n",
    "class_name_to_label, label_to_class_name = map_class_to_int(class_names)\n",
    "\n",
    "data_texts = data['text'].to_list()\n",
    "data_labels = data.label.copy()\n",
    "data_labels = convert_class_name_to_id(data_labels, class_name_to_label)\n",
    "\n",
    "nb_classes = len(np.unique(data_labels))"
   ]
  },
  {
   "cell_type": "code",
   "execution_count": null,
   "id": "a35vGeUYBLXP",
   "metadata": {
    "id": "a35vGeUYBLXP"
   },
   "outputs": [],
   "source": [
    "# Train, Validation and Test splitting of the data\n",
    "X_train_val, X_test, y_train_val, y_test = train_test_split(data_texts, data_labels, test_size=0.2, random_state=42, stratify=data_labels)\n",
    "\n",
    "X_train, X_val, y_train, y_val = train_test_split(X_train_val, y_train_val, test_size=1/8, random_state=42, stratify=y_train_val)"
   ]
  },
  {
   "cell_type": "code",
   "execution_count": null,
   "id": "yjupzqG1B4A1",
   "metadata": {
    "id": "yjupzqG1B4A1"
   },
   "outputs": [],
   "source": [
    "# Tokenization of the text data using the pretrained CamembertTokenizer\n",
    "tokenizer = CamembertTokenizer.from_pretrained(\"camembert-base\")\n",
    "\n",
    "X_train_encodings = tokenizer(X_train, truncation = True, padding = True)\n",
    "X_val_encodings = tokenizer(X_val, truncation = True, padding = True)\n",
    "X_test_encodings = tokenizer(X_test, truncation = True, padding = True)\n",
    "\n",
    "X_train_encodings['label'] = y_train\n",
    "X_val_encodings['label'] = y_val\n",
    "X_test_encodings['label'] = y_test\n",
    "\n",
    "X_train_dataset = Dataset.from_dict(X_train_encodings)\n",
    "X_val_dataset = Dataset.from_dict(X_val_encodings)\n",
    "X_test_dataset = Dataset.from_dict(X_test_encodings)"
   ]
  },
  {
   "cell_type": "markdown",
   "id": "HN2tSDWllzQb",
   "metadata": {
    "id": "HN2tSDWllzQb"
   },
   "source": [
    "<div>\n",
    "<b style=\"font-size: 20pt;\">Model Training</b>\n",
    "</div>"
   ]
  },
  {
   "cell_type": "code",
   "execution_count": null,
   "id": "57NA57aNEfNB",
   "metadata": {
    "id": "57NA57aNEfNB"
   },
   "outputs": [],
   "source": [
    "trainings_args = TrainingArguments(\n",
    "    output_dir='./results1',\n",
    "    num_train_epochs=30,\n",
    "    per_device_train_batch_size=64,\n",
    "    per_device_eval_batch_size=64,\n",
    "    evaluation_strategy='epoch',\n",
    "    overwrite_output_dir=True,\n",
    "    warmup_steps=200,\n",
    "    weight_decay=1e-5,\n",
    "    logging_dir='./logs',\n",
    "    logging_steps=10\n",
    ")"
   ]
  },
  {
   "cell_type": "code",
   "execution_count": null,
   "id": "rIegSmeTFGFe",
   "metadata": {
    "colab": {
     "base_uri": "https://localhost:8080/"
    },
    "id": "rIegSmeTFGFe",
    "outputId": "c0309179-58b1-4c9d-e68d-82c134f0cde4"
   },
   "outputs": [
    {
     "name": "stderr",
     "output_type": "stream",
     "text": [
      "Some weights of CamembertForSequenceClassification were not initialized from the model checkpoint at camembert-base and are newly initialized: ['classifier.out_proj.bias', 'classifier.dense.weight', 'classifier.dense.bias', 'classifier.out_proj.weight']\n",
      "You should probably TRAIN this model on a down-stream task to be able to use it for predictions and inference.\n"
     ]
    }
   ],
   "source": [
    "model = CamembertForSequenceClassification.from_pretrained(\n",
    "    'camembert-base',\n",
    "    num_labels=nb_classes,\n",
    "    id2label=label_to_class_name,\n",
    "    label2id=class_name_to_label\n",
    ")"
   ]
  },
  {
   "cell_type": "code",
   "execution_count": null,
   "id": "BlM2dJxEFs2E",
   "metadata": {
    "colab": {
     "base_uri": "https://localhost:8080/"
    },
    "id": "BlM2dJxEFs2E",
    "outputId": "a7b50ff3-1e10-4958-e227-47717a6355b5"
   },
   "outputs": [
    {
     "name": "stderr",
     "output_type": "stream",
     "text": [
      "<ipython-input-9-29cde1c561d6>:2: FutureWarning: load_metric is deprecated and will be removed in the next major version of datasets. Use 'evaluate.load' instead, from the new library 🤗 Evaluate: https://huggingface.co/docs/evaluate\n",
      "  metric = load_metric('accuracy')\n"
     ]
    }
   ],
   "source": [
    "from datasets import load_metric\n",
    "metric = load_metric('accuracy')\n",
    "\n",
    "def compute_metrics(eval_pred):\n",
    "    predictions, labels = eval_pred\n",
    "    predictions = np.argmax(predictions, axis=1)\n",
    "    return metric.compute(predictions=predictions, references=labels)\n",
    "\n",
    "trainer = Trainer(\n",
    "    model=model,\n",
    "    args=trainings_args,\n",
    "    train_dataset=X_train_dataset,\n",
    "    eval_dataset=X_val_dataset,\n",
    "    compute_metrics=compute_metrics,\n",
    ")"
   ]
  },
  {
   "cell_type": "code",
   "execution_count": null,
   "id": "2sBZFRj2Un7V",
   "metadata": {
    "colab": {
     "base_uri": "https://localhost:8080/",
     "height": 1000
    },
    "id": "2sBZFRj2Un7V",
    "outputId": "b53c2147-76e0-48fb-9723-5297744d123f"
   },
   "outputs": [
    {
     "data": {
      "text/html": [
       "\n",
       "    <div>\n",
       "      \n",
       "      <progress value='180' max='180' style='width:300px; height:20px; vertical-align: middle;'></progress>\n",
       "      [180/180 00:57, Epoch 30/30]\n",
       "    </div>\n",
       "    <table border=\"1\" class=\"dataframe\">\n",
       "  <thead>\n",
       " <tr style=\"text-align: left;\">\n",
       "      <th>Epoch</th>\n",
       "      <th>Training Loss</th>\n",
       "      <th>Validation Loss</th>\n",
       "      <th>Accuracy</th>\n",
       "    </tr>\n",
       "  </thead>\n",
       "  <tbody>\n",
       "    <tr>\n",
       "      <td>1</td>\n",
       "      <td>No log</td>\n",
       "      <td>2.197815</td>\n",
       "      <td>0.115385</td>\n",
       "    </tr>\n",
       "    <tr>\n",
       "      <td>2</td>\n",
       "      <td>2.197300</td>\n",
       "      <td>2.196115</td>\n",
       "      <td>0.115385</td>\n",
       "    </tr>\n",
       "    <tr>\n",
       "      <td>3</td>\n",
       "      <td>2.197300</td>\n",
       "      <td>2.193321</td>\n",
       "      <td>0.115385</td>\n",
       "    </tr>\n",
       "    <tr>\n",
       "      <td>4</td>\n",
       "      <td>2.194900</td>\n",
       "      <td>2.188928</td>\n",
       "      <td>0.115385</td>\n",
       "    </tr>\n",
       "    <tr>\n",
       "      <td>5</td>\n",
       "      <td>2.189200</td>\n",
       "      <td>2.182480</td>\n",
       "      <td>0.115385</td>\n",
       "    </tr>\n",
       "    <tr>\n",
       "      <td>6</td>\n",
       "      <td>2.189200</td>\n",
       "      <td>2.172076</td>\n",
       "      <td>0.326923</td>\n",
       "    </tr>\n",
       "    <tr>\n",
       "      <td>7</td>\n",
       "      <td>2.173700</td>\n",
       "      <td>2.153577</td>\n",
       "      <td>0.596154</td>\n",
       "    </tr>\n",
       "    <tr>\n",
       "      <td>8</td>\n",
       "      <td>2.173700</td>\n",
       "      <td>2.120709</td>\n",
       "      <td>0.711538</td>\n",
       "    </tr>\n",
       "    <tr>\n",
       "      <td>9</td>\n",
       "      <td>2.142000</td>\n",
       "      <td>2.069835</td>\n",
       "      <td>0.750000</td>\n",
       "    </tr>\n",
       "    <tr>\n",
       "      <td>10</td>\n",
       "      <td>2.080700</td>\n",
       "      <td>2.004222</td>\n",
       "      <td>0.826923</td>\n",
       "    </tr>\n",
       "    <tr>\n",
       "      <td>11</td>\n",
       "      <td>2.080700</td>\n",
       "      <td>1.925950</td>\n",
       "      <td>0.846154</td>\n",
       "    </tr>\n",
       "    <tr>\n",
       "      <td>12</td>\n",
       "      <td>1.973600</td>\n",
       "      <td>1.836251</td>\n",
       "      <td>0.923077</td>\n",
       "    </tr>\n",
       "    <tr>\n",
       "      <td>13</td>\n",
       "      <td>1.973600</td>\n",
       "      <td>1.733162</td>\n",
       "      <td>0.923077</td>\n",
       "    </tr>\n",
       "    <tr>\n",
       "      <td>14</td>\n",
       "      <td>1.824100</td>\n",
       "      <td>1.621037</td>\n",
       "      <td>0.923077</td>\n",
       "    </tr>\n",
       "    <tr>\n",
       "      <td>15</td>\n",
       "      <td>1.645500</td>\n",
       "      <td>1.506324</td>\n",
       "      <td>0.942308</td>\n",
       "    </tr>\n",
       "    <tr>\n",
       "      <td>16</td>\n",
       "      <td>1.645500</td>\n",
       "      <td>1.385541</td>\n",
       "      <td>0.961538</td>\n",
       "    </tr>\n",
       "    <tr>\n",
       "      <td>17</td>\n",
       "      <td>1.458800</td>\n",
       "      <td>1.268998</td>\n",
       "      <td>0.961538</td>\n",
       "    </tr>\n",
       "    <tr>\n",
       "      <td>18</td>\n",
       "      <td>1.458800</td>\n",
       "      <td>1.157008</td>\n",
       "      <td>0.980769</td>\n",
       "    </tr>\n",
       "    <tr>\n",
       "      <td>19</td>\n",
       "      <td>1.267800</td>\n",
       "      <td>1.051044</td>\n",
       "      <td>0.980769</td>\n",
       "    </tr>\n",
       "    <tr>\n",
       "      <td>20</td>\n",
       "      <td>1.092500</td>\n",
       "      <td>0.950210</td>\n",
       "      <td>0.980769</td>\n",
       "    </tr>\n",
       "    <tr>\n",
       "      <td>21</td>\n",
       "      <td>1.092500</td>\n",
       "      <td>0.856383</td>\n",
       "      <td>0.980769</td>\n",
       "    </tr>\n",
       "    <tr>\n",
       "      <td>22</td>\n",
       "      <td>0.929700</td>\n",
       "      <td>0.770100</td>\n",
       "      <td>0.980769</td>\n",
       "    </tr>\n",
       "    <tr>\n",
       "      <td>23</td>\n",
       "      <td>0.929700</td>\n",
       "      <td>0.684179</td>\n",
       "      <td>1.000000</td>\n",
       "    </tr>\n",
       "    <tr>\n",
       "      <td>24</td>\n",
       "      <td>0.785800</td>\n",
       "      <td>0.610524</td>\n",
       "      <td>0.980769</td>\n",
       "    </tr>\n",
       "    <tr>\n",
       "      <td>25</td>\n",
       "      <td>0.654000</td>\n",
       "      <td>0.539229</td>\n",
       "      <td>1.000000</td>\n",
       "    </tr>\n",
       "    <tr>\n",
       "      <td>26</td>\n",
       "      <td>0.654000</td>\n",
       "      <td>0.474465</td>\n",
       "      <td>1.000000</td>\n",
       "    </tr>\n",
       "    <tr>\n",
       "      <td>27</td>\n",
       "      <td>0.539900</td>\n",
       "      <td>0.421794</td>\n",
       "      <td>1.000000</td>\n",
       "    </tr>\n",
       "    <tr>\n",
       "      <td>28</td>\n",
       "      <td>0.539900</td>\n",
       "      <td>0.365514</td>\n",
       "      <td>1.000000</td>\n",
       "    </tr>\n",
       "    <tr>\n",
       "      <td>29</td>\n",
       "      <td>0.438100</td>\n",
       "      <td>0.325041</td>\n",
       "      <td>1.000000</td>\n",
       "    </tr>\n",
       "    <tr>\n",
       "      <td>30</td>\n",
       "      <td>0.355800</td>\n",
       "      <td>0.281666</td>\n",
       "      <td>1.000000</td>\n",
       "    </tr>\n",
       "  </tbody>\n",
       "</table><p>"
      ],
      "text/plain": [
       "<IPython.core.display.HTML object>"
      ]
     },
     "metadata": {},
     "output_type": "display_data"
    },
    {
     "data": {
      "text/plain": [
       "TrainOutput(global_step=180, training_loss=1.4412976079516941, metrics={'train_runtime': 59.4056, 'train_samples_per_second': 181.801, 'train_steps_per_second': 3.03, 'total_flos': 149859386344800.0, 'train_loss': 1.4412976079516941, 'epoch': 30.0})"
      ]
     },
     "execution_count": 10,
     "metadata": {},
     "output_type": "execute_result"
    }
   ],
   "source": [
    "trainer.train()"
   ]
  },
  {
   "cell_type": "code",
   "execution_count": null,
   "id": "ntMwH-RwtL6h",
   "metadata": {
    "colab": {
     "base_uri": "https://localhost:8080/",
     "height": 564
    },
    "id": "ntMwH-RwtL6h",
    "outputId": "94c49774-ebee-44de-b9ed-00c2efe48d01"
   },
   "outputs": [
    {
     "data": {
      "image/png": "[encoded data removed]",
      "text/plain": [
       "<Figure size 1000x600 with 1 Axes>"
      ]
     },
     "metadata": {},
     "output_type": "display_data"
    }
   ],
   "source": [
    "# Plot the training and validation loss during the training\n",
    "import matplotlib.pyplot as plt\n",
    "\n",
    "train_history = [item for item in trainer.state.log_history if 'loss' in item]\n",
    "eval_history = [item for item in trainer.state.log_history if 'eval_loss' in item]\n",
    "\n",
    "train_loss = [item['loss'] for item in train_history]\n",
    "eval_loss = [item['eval_loss'] for item in eval_history]\n",
    "\n",
    "training_epochs = [item['epoch'] for item in train_history]\n",
    "validation_epochs = [item['epoch'] for item in eval_history]\n",
    "\n",
    "plt.figure(figsize=(10, 6))\n",
    "plt.plot(training_epochs, train_loss, label='Training Loss')\n",
    "plt.plot(validation_epochs, eval_loss, label='Evaluation Loss')\n",
    "plt.xlabel('Epochs')\n",
    "plt.ylabel('Loss')\n",
    "plt.title('Training and Validation Loss')\n",
    "plt.legend()\n",
    "plt.grid()\n",
    "plt.savefig('../docs/train_validation_loss.jpg', bbox_inches='tight', dpi=300)\n",
    "plt.show()"
   ]
  },
  {
   "cell_type": "markdown",
   "id": "cy_2R4V3l_rM",
   "metadata": {
    "id": "cy_2R4V3l_rM"
   },
   "source": [
    "<div>\n",
    "<b style=\"font-size: 20pt;\">Model Evaluation</b>\n",
    "</div>"
   ]
  },
  {
   "cell_type": "code",
   "execution_count": null,
   "id": "8kUnWRIwJvkh",
   "metadata": {
    "colab": {
     "base_uri": "https://localhost:8080/",
     "height": 109
    },
    "id": "8kUnWRIwJvkh",
    "outputId": "bd10fc88-64cf-4c0a-c52d-a8419f9fd694"
   },
   "outputs": [
    {
     "data": {
      "text/html": [],
      "text/plain": [
       "<IPython.core.display.HTML object>"
      ]
     },
     "metadata": {},
     "output_type": "display_data"
    },
    {
     "data": {
      "text/plain": [
       "{'test_loss': 0.3431767523288727,\n",
       " 'test_accuracy': 0.970873786407767,\n",
       " 'test_runtime': 0.1425,\n",
       " 'test_samples_per_second': 722.829,\n",
       " 'test_steps_per_second': 14.036}"
      ]
     },
     "execution_count": 12,
     "metadata": {},
     "output_type": "execute_result"
    }
   ],
   "source": [
    "results = trainer.predict(X_test_dataset)\n",
    "results.metrics"
   ]
  },
  {
   "cell_type": "code",
   "execution_count": null,
   "id": "-HRhzLHjnAVk",
   "metadata": {
    "colab": {
     "base_uri": "https://localhost:8080/",
     "height": 933
    },
    "id": "-HRhzLHjnAVk",
    "outputId": "1cd08b9d-fb0e-4efe-834d-f837cf6bb654"
   },
   "outputs": [
    {
     "name": "stdout",
     "output_type": "stream",
     "text": [
      "Accuracy: 0.97\n",
      "Precision: 0.97\n",
      "Recall: 0.97\n",
      "F1-score: 0.97\n",
      "                   precision    recall  f1-score   support\n",
      "\n",
      "        translate       1.00      1.00      1.00        12\n",
      "     travel_alert       1.00      1.00      1.00        11\n",
      "    flight_status       0.92      1.00      0.96        12\n",
      "     lost_luggage       1.00      1.00      1.00        11\n",
      "travel_suggestion       0.91      0.91      0.91        11\n",
      "         carry_on       1.00      1.00      1.00        11\n",
      "       book_hotel       1.00      1.00      1.00        11\n",
      "      book_flight       1.00      1.00      1.00        11\n",
      "     out_of_scope       0.92      0.85      0.88        13\n",
      "\n",
      "         accuracy                           0.97       103\n",
      "        macro avg       0.97      0.97      0.97       103\n",
      "     weighted avg       0.97      0.97      0.97       103\n",
      "\n"
     ]
    },
    {
     "data": {
      "image/png": "[encoded data removed]",
      "text/plain": [
       "<Figure size 640x480 with 2 Axes>"
      ]
     },
     "metadata": {},
     "output_type": "display_data"
    }
   ],
   "source": [
    "y_test_pred = [np.argmax(text_pred) for text_pred in results.predictions]\n",
    "display_all_results_dnn(y_test, y_test_pred, class_names)"
   ]
  },
  {
   "cell_type": "code",
   "execution_count": null,
   "id": "lcpKcsIHUO-_",
   "metadata": {
    "colab": {
     "base_uri": "https://localhost:8080/",
     "height": 35
    },
    "id": "lcpKcsIHUO-_",
    "outputId": "de0a466c-28ee-4e8d-dbf0-90523ccfc70f"
   },
   "outputs": [
    {
     "data": {
      "text/html": [],
      "text/plain": [
       "<IPython.core.display.HTML object>"
      ]
     },
     "metadata": {},
     "output_type": "display_data"
    },
    {
     "name": "stdout",
     "output_type": "stream",
     "text": [
      "carry_on\n"
     ]
    }
   ],
   "source": [
    "# Sample test\n",
    "test_test = [\"j'ai le droit d'avoir de l'eau sur moi ?\"]\n",
    "encoded_test = tokenizer(test_test, truncation=True, padding=True)\n",
    "encoded_test_set = Dataset.from_dict(encoded_test)\n",
    "results = trainer.predict(encoded_test_set)\n",
    "print(model.config.id2label[np.argmax(results.predictions)])"
   ]
  },
  {
   "cell_type": "code",
   "execution_count": null,
   "id": "54FZl7xTeBqT",
   "metadata": {
    "colab": {
     "base_uri": "https://localhost:8080/"
    },
    "id": "54FZl7xTeBqT",
    "outputId": "170714d4-8f53-487d-a3ca-7dc1fedc8d15"
   },
   "outputs": [
    {
     "data": {
      "text/plain": [
       "('./saved_models/tokenizer_config.json',\n",
       " './saved_models/special_tokens_map.json',\n",
       " './saved_models/sentencepiece.bpe.model',\n",
       " './saved_models/added_tokens.json')"
      ]
     },
     "execution_count": 15,
     "metadata": {},
     "output_type": "execute_result"
    }
   ],
   "source": [
    "# Save the model\n",
    "saved_directory=\"./models\"\n",
    "model.save_pretrained(saved_directory)\n",
    "tokenizer.save_pretrained(saved_directory)"
   ]
  }
 ],
 "metadata": {
  "accelerator": "GPU",
  "colab": {
   "gpuType": "T4",
   "provenance": []
  },
  "kernelspec": {
   "display_name": "Python 3 (ipykernel)",
   "language": "python",
   "name": "python3"
  },
  "language_info": {
   "codemirror_mode": {
    "name": "ipython",
    "version": 3
   },
   "file_extension": ".py",
   "mimetype": "text/x-python",
   "name": "python",
   "nbconvert_exporter": "python",
   "pygments_lexer": "ipython3",
   "version": "3.9.12"
  }
 },
 "nbformat": 4,
 "nbformat_minor": 5
}
